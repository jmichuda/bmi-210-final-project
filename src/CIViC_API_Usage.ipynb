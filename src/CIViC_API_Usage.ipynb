{
 "cells": [
  {
   "cell_type": "markdown",
   "metadata": {},
   "source": [
    "# Using the CIViC API"
   ]
  },
  {
   "cell_type": "markdown",
   "source": [
    "### Import Modules"
   ],
   "metadata": {
    "collapsed": false,
    "pycharm": {
     "name": "#%% md\n"
    }
   }
  },
  {
   "cell_type": "code",
   "execution_count": 1,
   "metadata": {
    "pycharm": {
     "name": "#%%\n"
    }
   },
   "outputs": [],
   "source": [
    "import api_tools as apit"
   ]
  },
  {
   "cell_type": "markdown",
   "source": [
    "### Load Variants"
   ],
   "metadata": {
    "collapsed": false,
    "pycharm": {
     "name": "#%% md\n"
    }
   }
  },
  {
   "cell_type": "code",
   "execution_count": 2,
   "outputs": [
    {
     "data": {
      "text/plain": "   civic_actionability_score  \\\n0                      255.5   \n1                      146.0   \n2                       83.0   \n3                       33.5   \n4                       38.0   \n\n                                         coordinates  \\\n0  {'chromosome': '22', 'start': 23522397, 'stop'...   \n1  {'chromosome': '9', 'start': 133748283, 'stop'...   \n2  {'chromosome': '9', 'start': 133738363, 'stop'...   \n3  {'chromosome': '14', 'start': 105246551, 'stop...   \n4  {'chromosome': '2', 'start': 42396490, 'stop':...   \n\n                                         description  entrez_id entrez_name  \\\n0  The BCR-ABL fusion protein, commonly referred ...         25        ABL1   \n1  While the efficacy of imatinib has revolutioni...         25        ABL1   \n2  While the efficacy of imatinib has revolutioni...         25        ABL1   \n3  AKT1 E17K is a recurrent mutation that has bee...        207        AKT1   \n4  The EML4-ALK fusion variant 1 consisting of AL...        238         ALK   \n\n   flagged  gene_id  id           name     type                updated_at  \\\n0    False        4   1        BCR-ABL  variant  2020-02-08T03:53:21.874Z   \n1    False        4   2  BCR-ABL T315I  variant  2020-08-29T00:06:08.064Z   \n2    False        4   3  BCR-ABL E255K  variant  2021-06-08T23:03:08.149Z   \n3    False        2   4           E17K  variant  2021-11-12T18:53:34.889Z   \n4    False        1   5       EML4-ALK  variant  2020-08-29T19:17:30.276Z   \n\n                                       variant_types  \n0  [{'id': 120, 'name': 'transcript_fusion', 'dis...  \n1  [{'id': 47, 'name': 'missense_variant', 'displ...  \n2  [{'id': 47, 'name': 'missense_variant', 'displ...  \n3  [{'id': 47, 'name': 'missense_variant', 'displ...  \n4  [{'id': 120, 'name': 'transcript_fusion', 'dis...  ",
      "text/html": "<div>\n<style scoped>\n    .dataframe tbody tr th:only-of-type {\n        vertical-align: middle;\n    }\n\n    .dataframe tbody tr th {\n        vertical-align: top;\n    }\n\n    .dataframe thead th {\n        text-align: right;\n    }\n</style>\n<table border=\"1\" class=\"dataframe\">\n  <thead>\n    <tr style=\"text-align: right;\">\n      <th></th>\n      <th>civic_actionability_score</th>\n      <th>coordinates</th>\n      <th>description</th>\n      <th>entrez_id</th>\n      <th>entrez_name</th>\n      <th>flagged</th>\n      <th>gene_id</th>\n      <th>id</th>\n      <th>name</th>\n      <th>type</th>\n      <th>updated_at</th>\n      <th>variant_types</th>\n    </tr>\n  </thead>\n  <tbody>\n    <tr>\n      <th>0</th>\n      <td>255.5</td>\n      <td>{'chromosome': '22', 'start': 23522397, 'stop'...</td>\n      <td>The BCR-ABL fusion protein, commonly referred ...</td>\n      <td>25</td>\n      <td>ABL1</td>\n      <td>False</td>\n      <td>4</td>\n      <td>1</td>\n      <td>BCR-ABL</td>\n      <td>variant</td>\n      <td>2020-02-08T03:53:21.874Z</td>\n      <td>[{'id': 120, 'name': 'transcript_fusion', 'dis...</td>\n    </tr>\n    <tr>\n      <th>1</th>\n      <td>146.0</td>\n      <td>{'chromosome': '9', 'start': 133748283, 'stop'...</td>\n      <td>While the efficacy of imatinib has revolutioni...</td>\n      <td>25</td>\n      <td>ABL1</td>\n      <td>False</td>\n      <td>4</td>\n      <td>2</td>\n      <td>BCR-ABL T315I</td>\n      <td>variant</td>\n      <td>2020-08-29T00:06:08.064Z</td>\n      <td>[{'id': 47, 'name': 'missense_variant', 'displ...</td>\n    </tr>\n    <tr>\n      <th>2</th>\n      <td>83.0</td>\n      <td>{'chromosome': '9', 'start': 133738363, 'stop'...</td>\n      <td>While the efficacy of imatinib has revolutioni...</td>\n      <td>25</td>\n      <td>ABL1</td>\n      <td>False</td>\n      <td>4</td>\n      <td>3</td>\n      <td>BCR-ABL E255K</td>\n      <td>variant</td>\n      <td>2021-06-08T23:03:08.149Z</td>\n      <td>[{'id': 47, 'name': 'missense_variant', 'displ...</td>\n    </tr>\n    <tr>\n      <th>3</th>\n      <td>33.5</td>\n      <td>{'chromosome': '14', 'start': 105246551, 'stop...</td>\n      <td>AKT1 E17K is a recurrent mutation that has bee...</td>\n      <td>207</td>\n      <td>AKT1</td>\n      <td>False</td>\n      <td>2</td>\n      <td>4</td>\n      <td>E17K</td>\n      <td>variant</td>\n      <td>2021-11-12T18:53:34.889Z</td>\n      <td>[{'id': 47, 'name': 'missense_variant', 'displ...</td>\n    </tr>\n    <tr>\n      <th>4</th>\n      <td>38.0</td>\n      <td>{'chromosome': '2', 'start': 42396490, 'stop':...</td>\n      <td>The EML4-ALK fusion variant 1 consisting of AL...</td>\n      <td>238</td>\n      <td>ALK</td>\n      <td>False</td>\n      <td>1</td>\n      <td>5</td>\n      <td>EML4-ALK</td>\n      <td>variant</td>\n      <td>2020-08-29T19:17:30.276Z</td>\n      <td>[{'id': 120, 'name': 'transcript_fusion', 'dis...</td>\n    </tr>\n  </tbody>\n</table>\n</div>"
     },
     "execution_count": 2,
     "metadata": {},
     "output_type": "execute_result"
    }
   ],
   "source": [
    "civic_variants = apit.Endpoint(url=\"https://civicdb.org/api/variants?count=3056\")\n",
    "df_civic_variants = civic_variants.data_as_pandas(\"records\")\n",
    "df_civic_variants.head()"
   ],
   "metadata": {
    "collapsed": false,
    "pycharm": {
     "name": "#%%\n"
    }
   }
  },
  {
   "cell_type": "markdown",
   "source": [
    "### Load Evidence Items\n",
    "\n",
    "##### Load all records"
   ],
   "metadata": {
    "collapsed": false,
    "pycharm": {
     "name": "#%% md\n"
    }
   }
  },
  {
   "cell_type": "code",
   "execution_count": 3,
   "outputs": [
    {
     "data": {
      "text/plain": "  clinical_significance                                        description  \\\n0              Negative  JAK2 V617F is not associated with lymphoid leu...   \n1              Negative  GIST tumors harboring PDGFRA D842V mutation ar...   \n2              Positive  DNMT3A R882 mutations occur most often in de n...   \n3              Positive  Young AML patients (<60 years old) with DNMT3A...   \n4              Positive  JAK2 V617F is associated with myeloid malignan...   \n\n                                             disease drug_interaction_type  \\\n0  {'id': 3034, 'name': 'Lymphoid Leukemia', 'dis...                  None   \n1  {'id': 2, 'name': 'Gastrointestinal Stromal Tu...                  None   \n2  {'id': 3, 'name': 'Acute Myeloid Leukemia', 'd...                  None   \n3  {'id': 3, 'name': 'Acute Myeloid Leukemia', 'd...                  None   \n4  {'id': 4, 'name': 'Chronic Myeloid Leukemia', ...                  None   \n\n  drugs evidence_direction evidence_level evidence_type  flagged  id  name  \\\n0    []           Supports              B    Diagnostic    False   1  EID1   \n1    []           Supports              B    Diagnostic    False   2  EID2   \n2    []           Supports              B    Diagnostic    False   3  EID3   \n3    []           Supports              B    Diagnostic    False   4  EID4   \n4    []           Supports              B    Diagnostic    False   5  EID5   \n\n   open_change_count phenotypes  rating  \\\n0                  0         []     4.0   \n1                  0         []     3.0   \n2                  0         []     2.0   \n3                  0         []     3.0   \n4                  0         []     4.0   \n\n                                              source    status      type  \\\n0  {'id': 51, 'name': 'The JAK2V617F activating m...  accepted  evidence   \n1  {'id': 52, 'name': 'A great majority of GISTs ...  accepted  evidence   \n2  {'id': 53, 'name': 'Do AML patients with DNMT3...  accepted  evidence   \n3  {'id': 54, 'name': 'Mutant DNMT3A: a marker of...  accepted  evidence   \n4  {'id': 51, 'name': 'The JAK2V617F activating m...  accepted  evidence   \n\n                 updated_at  variant_id variant_origin  \n0  2020-11-20T16:18:21.858Z          64        Somatic  \n1  2015-06-21T16:49:38.876Z          99        Somatic  \n2  2016-03-26T22:10:59.700Z          32        Somatic  \n3  2016-03-16T22:09:27.720Z          32        Somatic  \n4  2015-06-21T16:49:39.053Z          64        Somatic  ",
      "text/html": "<div>\n<style scoped>\n    .dataframe tbody tr th:only-of-type {\n        vertical-align: middle;\n    }\n\n    .dataframe tbody tr th {\n        vertical-align: top;\n    }\n\n    .dataframe thead th {\n        text-align: right;\n    }\n</style>\n<table border=\"1\" class=\"dataframe\">\n  <thead>\n    <tr style=\"text-align: right;\">\n      <th></th>\n      <th>clinical_significance</th>\n      <th>description</th>\n      <th>disease</th>\n      <th>drug_interaction_type</th>\n      <th>drugs</th>\n      <th>evidence_direction</th>\n      <th>evidence_level</th>\n      <th>evidence_type</th>\n      <th>flagged</th>\n      <th>id</th>\n      <th>name</th>\n      <th>open_change_count</th>\n      <th>phenotypes</th>\n      <th>rating</th>\n      <th>source</th>\n      <th>status</th>\n      <th>type</th>\n      <th>updated_at</th>\n      <th>variant_id</th>\n      <th>variant_origin</th>\n    </tr>\n  </thead>\n  <tbody>\n    <tr>\n      <th>0</th>\n      <td>Negative</td>\n      <td>JAK2 V617F is not associated with lymphoid leu...</td>\n      <td>{'id': 3034, 'name': 'Lymphoid Leukemia', 'dis...</td>\n      <td>None</td>\n      <td>[]</td>\n      <td>Supports</td>\n      <td>B</td>\n      <td>Diagnostic</td>\n      <td>False</td>\n      <td>1</td>\n      <td>EID1</td>\n      <td>0</td>\n      <td>[]</td>\n      <td>4.0</td>\n      <td>{'id': 51, 'name': 'The JAK2V617F activating m...</td>\n      <td>accepted</td>\n      <td>evidence</td>\n      <td>2020-11-20T16:18:21.858Z</td>\n      <td>64</td>\n      <td>Somatic</td>\n    </tr>\n    <tr>\n      <th>1</th>\n      <td>Negative</td>\n      <td>GIST tumors harboring PDGFRA D842V mutation ar...</td>\n      <td>{'id': 2, 'name': 'Gastrointestinal Stromal Tu...</td>\n      <td>None</td>\n      <td>[]</td>\n      <td>Supports</td>\n      <td>B</td>\n      <td>Diagnostic</td>\n      <td>False</td>\n      <td>2</td>\n      <td>EID2</td>\n      <td>0</td>\n      <td>[]</td>\n      <td>3.0</td>\n      <td>{'id': 52, 'name': 'A great majority of GISTs ...</td>\n      <td>accepted</td>\n      <td>evidence</td>\n      <td>2015-06-21T16:49:38.876Z</td>\n      <td>99</td>\n      <td>Somatic</td>\n    </tr>\n    <tr>\n      <th>2</th>\n      <td>Positive</td>\n      <td>DNMT3A R882 mutations occur most often in de n...</td>\n      <td>{'id': 3, 'name': 'Acute Myeloid Leukemia', 'd...</td>\n      <td>None</td>\n      <td>[]</td>\n      <td>Supports</td>\n      <td>B</td>\n      <td>Diagnostic</td>\n      <td>False</td>\n      <td>3</td>\n      <td>EID3</td>\n      <td>0</td>\n      <td>[]</td>\n      <td>2.0</td>\n      <td>{'id': 53, 'name': 'Do AML patients with DNMT3...</td>\n      <td>accepted</td>\n      <td>evidence</td>\n      <td>2016-03-26T22:10:59.700Z</td>\n      <td>32</td>\n      <td>Somatic</td>\n    </tr>\n    <tr>\n      <th>3</th>\n      <td>Positive</td>\n      <td>Young AML patients (&lt;60 years old) with DNMT3A...</td>\n      <td>{'id': 3, 'name': 'Acute Myeloid Leukemia', 'd...</td>\n      <td>None</td>\n      <td>[]</td>\n      <td>Supports</td>\n      <td>B</td>\n      <td>Diagnostic</td>\n      <td>False</td>\n      <td>4</td>\n      <td>EID4</td>\n      <td>0</td>\n      <td>[]</td>\n      <td>3.0</td>\n      <td>{'id': 54, 'name': 'Mutant DNMT3A: a marker of...</td>\n      <td>accepted</td>\n      <td>evidence</td>\n      <td>2016-03-16T22:09:27.720Z</td>\n      <td>32</td>\n      <td>Somatic</td>\n    </tr>\n    <tr>\n      <th>4</th>\n      <td>Positive</td>\n      <td>JAK2 V617F is associated with myeloid malignan...</td>\n      <td>{'id': 4, 'name': 'Chronic Myeloid Leukemia', ...</td>\n      <td>None</td>\n      <td>[]</td>\n      <td>Supports</td>\n      <td>B</td>\n      <td>Diagnostic</td>\n      <td>False</td>\n      <td>5</td>\n      <td>EID5</td>\n      <td>0</td>\n      <td>[]</td>\n      <td>4.0</td>\n      <td>{'id': 51, 'name': 'The JAK2V617F activating m...</td>\n      <td>accepted</td>\n      <td>evidence</td>\n      <td>2015-06-21T16:49:39.053Z</td>\n      <td>64</td>\n      <td>Somatic</td>\n    </tr>\n  </tbody>\n</table>\n</div>"
     },
     "execution_count": 3,
     "metadata": {},
     "output_type": "execute_result"
    }
   ],
   "source": [
    "civic_evidence = apit.Endpoint(url=\"https://civicdb.org/api/evidence_items?count=8579\")\n",
    "df_civic_evidence = civic_evidence.data_as_pandas(\"records\")\n",
    "df_civic_evidence.head()"
   ],
   "metadata": {
    "collapsed": false,
    "pycharm": {
     "name": "#%%\n"
    }
   }
  },
  {
   "cell_type": "markdown",
   "source": [
    "##### Filter evidence items for records with \"Predictive\" evidence type"
   ],
   "metadata": {
    "collapsed": false,
    "pycharm": {
     "name": "#%% md\n"
    }
   }
  },
  {
   "cell_type": "code",
   "execution_count": 4,
   "outputs": [
    {
     "data": {
      "text/plain": "   clinical_significance                                        description  \\\n9             Resistance  A375 cells expressing MAP2K1 P124S mutation co...   \n10            Resistance  A375 cells expressing MAP2K1 Q56P mutation con...   \n11            Resistance  Vemurafenib resistance is associated with gain...   \n12            Resistance  GIST cancer with D842V mutation is resistant t...   \n13            Resistance  While cancer with PDGFRA V561D mutation is kno...   \n\n                                              disease drug_interaction_type  \\\n9   {'id': 7, 'name': 'Melanoma', 'display_name': ...                  None   \n10  {'id': 7, 'name': 'Melanoma', 'display_name': ...                  None   \n11  {'id': 7, 'name': 'Melanoma', 'display_name': ...                  None   \n12  {'id': 2, 'name': 'Gastrointestinal Stromal Tu...                  None   \n13  {'id': 2, 'name': 'Gastrointestinal Stromal Tu...                  None   \n\n                                                drugs evidence_direction  \\\n9   [{'id': 63, 'name': 'Selumetinib', 'ncit_id': ...           Supports   \n10  [{'id': 63, 'name': 'Selumetinib', 'ncit_id': ...           Supports   \n11  [{'id': 4, 'name': 'Vemurafenib', 'ncit_id': '...           Supports   \n12  [{'id': 5, 'name': 'Imatinib', 'ncit_id': 'C62...           Supports   \n13  [{'id': 5, 'name': 'Imatinib', 'ncit_id': 'C62...           Supports   \n\n   evidence_level evidence_type  flagged  id   name  open_change_count  \\\n9               D    Predictive    False  12  EID12                  0   \n10              D    Predictive    False  13  EID13                  0   \n11              B    Predictive    False  14  EID14                  0   \n12              B    Predictive    False  15  EID15                  0   \n13              B    Predictive    False  16  EID16                  0   \n\n   phenotypes  rating                                             source  \\\n9          []     3.0  {'id': 58, 'name': 'MEK1 mutations confer resi...   \n10         []     3.0  {'id': 58, 'name': 'MEK1 mutations confer resi...   \n11         []     4.0  {'id': 60, 'name': 'Pharmacodynamic effects an...   \n12         []     4.0  {'id': 61, 'name': 'PDGFRA mutations in gastro...   \n13         []     4.0  {'id': 62, 'name': 'Molecular correlates of im...   \n\n      status      type                updated_at  variant_id variant_origin  \n9   accepted  evidence  2016-08-19T18:23:15.824Z          82        Somatic  \n10  accepted  evidence  2016-11-07T18:43:41.247Z          83        Somatic  \n11  accepted  evidence  2015-06-21T16:49:39.376Z          94        Somatic  \n12  accepted  evidence  2015-06-21T16:49:39.416Z          99        Somatic  \n13  accepted  evidence  2016-12-01T15:26:38.682Z          99        Somatic  ",
      "text/html": "<div>\n<style scoped>\n    .dataframe tbody tr th:only-of-type {\n        vertical-align: middle;\n    }\n\n    .dataframe tbody tr th {\n        vertical-align: top;\n    }\n\n    .dataframe thead th {\n        text-align: right;\n    }\n</style>\n<table border=\"1\" class=\"dataframe\">\n  <thead>\n    <tr style=\"text-align: right;\">\n      <th></th>\n      <th>clinical_significance</th>\n      <th>description</th>\n      <th>disease</th>\n      <th>drug_interaction_type</th>\n      <th>drugs</th>\n      <th>evidence_direction</th>\n      <th>evidence_level</th>\n      <th>evidence_type</th>\n      <th>flagged</th>\n      <th>id</th>\n      <th>name</th>\n      <th>open_change_count</th>\n      <th>phenotypes</th>\n      <th>rating</th>\n      <th>source</th>\n      <th>status</th>\n      <th>type</th>\n      <th>updated_at</th>\n      <th>variant_id</th>\n      <th>variant_origin</th>\n    </tr>\n  </thead>\n  <tbody>\n    <tr>\n      <th>9</th>\n      <td>Resistance</td>\n      <td>A375 cells expressing MAP2K1 P124S mutation co...</td>\n      <td>{'id': 7, 'name': 'Melanoma', 'display_name': ...</td>\n      <td>None</td>\n      <td>[{'id': 63, 'name': 'Selumetinib', 'ncit_id': ...</td>\n      <td>Supports</td>\n      <td>D</td>\n      <td>Predictive</td>\n      <td>False</td>\n      <td>12</td>\n      <td>EID12</td>\n      <td>0</td>\n      <td>[]</td>\n      <td>3.0</td>\n      <td>{'id': 58, 'name': 'MEK1 mutations confer resi...</td>\n      <td>accepted</td>\n      <td>evidence</td>\n      <td>2016-08-19T18:23:15.824Z</td>\n      <td>82</td>\n      <td>Somatic</td>\n    </tr>\n    <tr>\n      <th>10</th>\n      <td>Resistance</td>\n      <td>A375 cells expressing MAP2K1 Q56P mutation con...</td>\n      <td>{'id': 7, 'name': 'Melanoma', 'display_name': ...</td>\n      <td>None</td>\n      <td>[{'id': 63, 'name': 'Selumetinib', 'ncit_id': ...</td>\n      <td>Supports</td>\n      <td>D</td>\n      <td>Predictive</td>\n      <td>False</td>\n      <td>13</td>\n      <td>EID13</td>\n      <td>0</td>\n      <td>[]</td>\n      <td>3.0</td>\n      <td>{'id': 58, 'name': 'MEK1 mutations confer resi...</td>\n      <td>accepted</td>\n      <td>evidence</td>\n      <td>2016-11-07T18:43:41.247Z</td>\n      <td>83</td>\n      <td>Somatic</td>\n    </tr>\n    <tr>\n      <th>11</th>\n      <td>Resistance</td>\n      <td>Vemurafenib resistance is associated with gain...</td>\n      <td>{'id': 7, 'name': 'Melanoma', 'display_name': ...</td>\n      <td>None</td>\n      <td>[{'id': 4, 'name': 'Vemurafenib', 'ncit_id': '...</td>\n      <td>Supports</td>\n      <td>B</td>\n      <td>Predictive</td>\n      <td>False</td>\n      <td>14</td>\n      <td>EID14</td>\n      <td>0</td>\n      <td>[]</td>\n      <td>4.0</td>\n      <td>{'id': 60, 'name': 'Pharmacodynamic effects an...</td>\n      <td>accepted</td>\n      <td>evidence</td>\n      <td>2015-06-21T16:49:39.376Z</td>\n      <td>94</td>\n      <td>Somatic</td>\n    </tr>\n    <tr>\n      <th>12</th>\n      <td>Resistance</td>\n      <td>GIST cancer with D842V mutation is resistant t...</td>\n      <td>{'id': 2, 'name': 'Gastrointestinal Stromal Tu...</td>\n      <td>None</td>\n      <td>[{'id': 5, 'name': 'Imatinib', 'ncit_id': 'C62...</td>\n      <td>Supports</td>\n      <td>B</td>\n      <td>Predictive</td>\n      <td>False</td>\n      <td>15</td>\n      <td>EID15</td>\n      <td>0</td>\n      <td>[]</td>\n      <td>4.0</td>\n      <td>{'id': 61, 'name': 'PDGFRA mutations in gastro...</td>\n      <td>accepted</td>\n      <td>evidence</td>\n      <td>2015-06-21T16:49:39.416Z</td>\n      <td>99</td>\n      <td>Somatic</td>\n    </tr>\n    <tr>\n      <th>13</th>\n      <td>Resistance</td>\n      <td>While cancer with PDGFRA V561D mutation is kno...</td>\n      <td>{'id': 2, 'name': 'Gastrointestinal Stromal Tu...</td>\n      <td>None</td>\n      <td>[{'id': 5, 'name': 'Imatinib', 'ncit_id': 'C62...</td>\n      <td>Supports</td>\n      <td>B</td>\n      <td>Predictive</td>\n      <td>False</td>\n      <td>16</td>\n      <td>EID16</td>\n      <td>0</td>\n      <td>[]</td>\n      <td>4.0</td>\n      <td>{'id': 62, 'name': 'Molecular correlates of im...</td>\n      <td>accepted</td>\n      <td>evidence</td>\n      <td>2016-12-01T15:26:38.682Z</td>\n      <td>99</td>\n      <td>Somatic</td>\n    </tr>\n  </tbody>\n</table>\n</div>"
     },
     "execution_count": 4,
     "metadata": {},
     "output_type": "execute_result"
    }
   ],
   "source": [
    "df_civic_evidence_filtered = df_civic_evidence[df_civic_evidence[\"evidence_type\"] == \"Predictive\"]\n",
    "df_civic_evidence_filtered = df_civic_evidence_filtered[df_civic_evidence_filtered[\"evidence_direction\"] == \"Supports\"]\n",
    "df_civic_evidence_filtered = df_civic_evidence_filtered[df_civic_evidence_filtered[\"clinical_significance\"] != \"N/A\"]\n",
    "df_civic_evidence_filtered.head()"
   ],
   "metadata": {
    "collapsed": false,
    "pycharm": {
     "name": "#%%\n"
    }
   }
  },
  {
   "cell_type": "markdown",
   "source": [
    "##### Left-join the variant table to the filtered evidence item table"
   ],
   "metadata": {
    "collapsed": false,
    "pycharm": {
     "name": "#%% md\n"
    }
   }
  },
  {
   "cell_type": "code",
   "execution_count": 5,
   "outputs": [
    {
     "data": {
      "text/plain": "  clinical_significance                                      description_x  \\\n0            Resistance  A375 cells expressing MAP2K1 P124S mutation co...   \n1            Resistance  A375 cells expressing MAP2K1 Q56P mutation con...   \n2            Resistance  Vemurafenib resistance is associated with gain...   \n3            Resistance  GIST cancer with D842V mutation is resistant t...   \n4            Resistance  While cancer with PDGFRA V561D mutation is kno...   \n\n                                             disease drug_interaction_type  \\\n0  {'id': 7, 'name': 'Melanoma', 'display_name': ...                  None   \n1  {'id': 7, 'name': 'Melanoma', 'display_name': ...                  None   \n2  {'id': 7, 'name': 'Melanoma', 'display_name': ...                  None   \n3  {'id': 2, 'name': 'Gastrointestinal Stromal Tu...                  None   \n4  {'id': 2, 'name': 'Gastrointestinal Stromal Tu...                  None   \n\n                                               drugs evidence_direction  \\\n0  [{'id': 63, 'name': 'Selumetinib', 'ncit_id': ...           Supports   \n1  [{'id': 63, 'name': 'Selumetinib', 'ncit_id': ...           Supports   \n2  [{'id': 4, 'name': 'Vemurafenib', 'ncit_id': '...           Supports   \n3  [{'id': 5, 'name': 'Imatinib', 'ncit_id': 'C62...           Supports   \n4  [{'id': 5, 'name': 'Imatinib', 'ncit_id': 'C62...           Supports   \n\n  evidence_level evidence_type  flagged_x  id_x  ...  \\\n0              D    Predictive      False    12  ...   \n1              D    Predictive      False    13  ...   \n2              B    Predictive      False    14  ...   \n3              B    Predictive      False    15  ...   \n4              B    Predictive      False    16  ...   \n\n                                       description_y  entrez_id entrez_name  \\\n0  MAP2K1 P124S is a recurrent mutation in melano...     5604.0      MAP2K1   \n1  MAP2K1 Q56P is a recurrent mutation in melanom...     5604.0      MAP2K1   \n2  NRAS Q61 mutations have been found in multiple...     4893.0        NRAS   \n3  PDGFRA D842 mutations are characterized broadl...     5156.0      PDGFRA   \n4  PDGFRA D842 mutations are characterized broadl...     5156.0      PDGFRA   \n\n   flagged_y gene_id  id_y name_y   type_y              updated_at_y  \\\n0      False    31.0  82.0  P124S  variant  2018-11-30T14:43:05.546Z   \n1      False    31.0  83.0   Q56P  variant  2018-11-30T14:43:05.683Z   \n2      False    36.0  94.0    Q61  variant  2020-11-25T00:09:17.599Z   \n3      False    38.0  99.0  D842V  variant  2019-05-03T23:38:41.672Z   \n4      False    38.0  99.0  D842V  variant  2019-05-03T23:38:41.672Z   \n\n                                       variant_types  \n0  [{'id': 47, 'name': 'missense_variant', 'displ...  \n1  [{'id': 47, 'name': 'missense_variant', 'displ...  \n2  [{'id': 47, 'name': 'missense_variant', 'displ...  \n3  [{'id': 47, 'name': 'missense_variant', 'displ...  \n4  [{'id': 47, 'name': 'missense_variant', 'displ...  \n\n[5 rows x 32 columns]",
      "text/html": "<div>\n<style scoped>\n    .dataframe tbody tr th:only-of-type {\n        vertical-align: middle;\n    }\n\n    .dataframe tbody tr th {\n        vertical-align: top;\n    }\n\n    .dataframe thead th {\n        text-align: right;\n    }\n</style>\n<table border=\"1\" class=\"dataframe\">\n  <thead>\n    <tr style=\"text-align: right;\">\n      <th></th>\n      <th>clinical_significance</th>\n      <th>description_x</th>\n      <th>disease</th>\n      <th>drug_interaction_type</th>\n      <th>drugs</th>\n      <th>evidence_direction</th>\n      <th>evidence_level</th>\n      <th>evidence_type</th>\n      <th>flagged_x</th>\n      <th>id_x</th>\n      <th>...</th>\n      <th>description_y</th>\n      <th>entrez_id</th>\n      <th>entrez_name</th>\n      <th>flagged_y</th>\n      <th>gene_id</th>\n      <th>id_y</th>\n      <th>name_y</th>\n      <th>type_y</th>\n      <th>updated_at_y</th>\n      <th>variant_types</th>\n    </tr>\n  </thead>\n  <tbody>\n    <tr>\n      <th>0</th>\n      <td>Resistance</td>\n      <td>A375 cells expressing MAP2K1 P124S mutation co...</td>\n      <td>{'id': 7, 'name': 'Melanoma', 'display_name': ...</td>\n      <td>None</td>\n      <td>[{'id': 63, 'name': 'Selumetinib', 'ncit_id': ...</td>\n      <td>Supports</td>\n      <td>D</td>\n      <td>Predictive</td>\n      <td>False</td>\n      <td>12</td>\n      <td>...</td>\n      <td>MAP2K1 P124S is a recurrent mutation in melano...</td>\n      <td>5604.0</td>\n      <td>MAP2K1</td>\n      <td>False</td>\n      <td>31.0</td>\n      <td>82.0</td>\n      <td>P124S</td>\n      <td>variant</td>\n      <td>2018-11-30T14:43:05.546Z</td>\n      <td>[{'id': 47, 'name': 'missense_variant', 'displ...</td>\n    </tr>\n    <tr>\n      <th>1</th>\n      <td>Resistance</td>\n      <td>A375 cells expressing MAP2K1 Q56P mutation con...</td>\n      <td>{'id': 7, 'name': 'Melanoma', 'display_name': ...</td>\n      <td>None</td>\n      <td>[{'id': 63, 'name': 'Selumetinib', 'ncit_id': ...</td>\n      <td>Supports</td>\n      <td>D</td>\n      <td>Predictive</td>\n      <td>False</td>\n      <td>13</td>\n      <td>...</td>\n      <td>MAP2K1 Q56P is a recurrent mutation in melanom...</td>\n      <td>5604.0</td>\n      <td>MAP2K1</td>\n      <td>False</td>\n      <td>31.0</td>\n      <td>83.0</td>\n      <td>Q56P</td>\n      <td>variant</td>\n      <td>2018-11-30T14:43:05.683Z</td>\n      <td>[{'id': 47, 'name': 'missense_variant', 'displ...</td>\n    </tr>\n    <tr>\n      <th>2</th>\n      <td>Resistance</td>\n      <td>Vemurafenib resistance is associated with gain...</td>\n      <td>{'id': 7, 'name': 'Melanoma', 'display_name': ...</td>\n      <td>None</td>\n      <td>[{'id': 4, 'name': 'Vemurafenib', 'ncit_id': '...</td>\n      <td>Supports</td>\n      <td>B</td>\n      <td>Predictive</td>\n      <td>False</td>\n      <td>14</td>\n      <td>...</td>\n      <td>NRAS Q61 mutations have been found in multiple...</td>\n      <td>4893.0</td>\n      <td>NRAS</td>\n      <td>False</td>\n      <td>36.0</td>\n      <td>94.0</td>\n      <td>Q61</td>\n      <td>variant</td>\n      <td>2020-11-25T00:09:17.599Z</td>\n      <td>[{'id': 47, 'name': 'missense_variant', 'displ...</td>\n    </tr>\n    <tr>\n      <th>3</th>\n      <td>Resistance</td>\n      <td>GIST cancer with D842V mutation is resistant t...</td>\n      <td>{'id': 2, 'name': 'Gastrointestinal Stromal Tu...</td>\n      <td>None</td>\n      <td>[{'id': 5, 'name': 'Imatinib', 'ncit_id': 'C62...</td>\n      <td>Supports</td>\n      <td>B</td>\n      <td>Predictive</td>\n      <td>False</td>\n      <td>15</td>\n      <td>...</td>\n      <td>PDGFRA D842 mutations are characterized broadl...</td>\n      <td>5156.0</td>\n      <td>PDGFRA</td>\n      <td>False</td>\n      <td>38.0</td>\n      <td>99.0</td>\n      <td>D842V</td>\n      <td>variant</td>\n      <td>2019-05-03T23:38:41.672Z</td>\n      <td>[{'id': 47, 'name': 'missense_variant', 'displ...</td>\n    </tr>\n    <tr>\n      <th>4</th>\n      <td>Resistance</td>\n      <td>While cancer with PDGFRA V561D mutation is kno...</td>\n      <td>{'id': 2, 'name': 'Gastrointestinal Stromal Tu...</td>\n      <td>None</td>\n      <td>[{'id': 5, 'name': 'Imatinib', 'ncit_id': 'C62...</td>\n      <td>Supports</td>\n      <td>B</td>\n      <td>Predictive</td>\n      <td>False</td>\n      <td>16</td>\n      <td>...</td>\n      <td>PDGFRA D842 mutations are characterized broadl...</td>\n      <td>5156.0</td>\n      <td>PDGFRA</td>\n      <td>False</td>\n      <td>38.0</td>\n      <td>99.0</td>\n      <td>D842V</td>\n      <td>variant</td>\n      <td>2019-05-03T23:38:41.672Z</td>\n      <td>[{'id': 47, 'name': 'missense_variant', 'displ...</td>\n    </tr>\n  </tbody>\n</table>\n<p>5 rows × 32 columns</p>\n</div>"
     },
     "execution_count": 5,
     "metadata": {},
     "output_type": "execute_result"
    }
   ],
   "source": [
    "df_variant_evidence = df_civic_evidence_filtered.merge(df_civic_variants, left_on=\"variant_id\", right_on=\"id\", how=\"left\")\n",
    "df_variant_evidence.head()"
   ],
   "metadata": {
    "collapsed": false,
    "pycharm": {
     "name": "#%%\n"
    }
   }
  },
  {
   "cell_type": "markdown",
   "source": [
    "##### Isolate the columns of interest and obtain the drug names associated with each variant and evidence item"
   ],
   "metadata": {
    "collapsed": false,
    "pycharm": {
     "name": "#%% md\n"
    }
   }
  },
  {
   "cell_type": "code",
   "execution_count": 11,
   "outputs": [
    {
     "data": {
      "text/plain": "  name_y                                              drugs evidence_level  \\\n0  P124S  [{'id': 63, 'name': 'Selumetinib', 'ncit_id': ...              D   \n1   Q56P  [{'id': 63, 'name': 'Selumetinib', 'ncit_id': ...              D   \n2    Q61  [{'id': 4, 'name': 'Vemurafenib', 'ncit_id': '...              B   \n3  D842V  [{'id': 5, 'name': 'Imatinib', 'ncit_id': 'C62...              B   \n4  D842V  [{'id': 5, 'name': 'Imatinib', 'ncit_id': 'C62...              B   \n\n  clinical_significance                                            disease  \n0            Resistance  {'id': 7, 'name': 'Melanoma', 'display_name': ...  \n1            Resistance  {'id': 7, 'name': 'Melanoma', 'display_name': ...  \n2            Resistance  {'id': 7, 'name': 'Melanoma', 'display_name': ...  \n3            Resistance  {'id': 2, 'name': 'Gastrointestinal Stromal Tu...  \n4            Resistance  {'id': 2, 'name': 'Gastrointestinal Stromal Tu...  ",
      "text/html": "<div>\n<style scoped>\n    .dataframe tbody tr th:only-of-type {\n        vertical-align: middle;\n    }\n\n    .dataframe tbody tr th {\n        vertical-align: top;\n    }\n\n    .dataframe thead th {\n        text-align: right;\n    }\n</style>\n<table border=\"1\" class=\"dataframe\">\n  <thead>\n    <tr style=\"text-align: right;\">\n      <th></th>\n      <th>name_y</th>\n      <th>drugs</th>\n      <th>evidence_level</th>\n      <th>clinical_significance</th>\n      <th>disease</th>\n    </tr>\n  </thead>\n  <tbody>\n    <tr>\n      <th>0</th>\n      <td>P124S</td>\n      <td>[{'id': 63, 'name': 'Selumetinib', 'ncit_id': ...</td>\n      <td>D</td>\n      <td>Resistance</td>\n      <td>{'id': 7, 'name': 'Melanoma', 'display_name': ...</td>\n    </tr>\n    <tr>\n      <th>1</th>\n      <td>Q56P</td>\n      <td>[{'id': 63, 'name': 'Selumetinib', 'ncit_id': ...</td>\n      <td>D</td>\n      <td>Resistance</td>\n      <td>{'id': 7, 'name': 'Melanoma', 'display_name': ...</td>\n    </tr>\n    <tr>\n      <th>2</th>\n      <td>Q61</td>\n      <td>[{'id': 4, 'name': 'Vemurafenib', 'ncit_id': '...</td>\n      <td>B</td>\n      <td>Resistance</td>\n      <td>{'id': 7, 'name': 'Melanoma', 'display_name': ...</td>\n    </tr>\n    <tr>\n      <th>3</th>\n      <td>D842V</td>\n      <td>[{'id': 5, 'name': 'Imatinib', 'ncit_id': 'C62...</td>\n      <td>B</td>\n      <td>Resistance</td>\n      <td>{'id': 2, 'name': 'Gastrointestinal Stromal Tu...</td>\n    </tr>\n    <tr>\n      <th>4</th>\n      <td>D842V</td>\n      <td>[{'id': 5, 'name': 'Imatinib', 'ncit_id': 'C62...</td>\n      <td>B</td>\n      <td>Resistance</td>\n      <td>{'id': 2, 'name': 'Gastrointestinal Stromal Tu...</td>\n    </tr>\n  </tbody>\n</table>\n</div>"
     },
     "execution_count": 11,
     "metadata": {},
     "output_type": "execute_result"
    }
   ],
   "source": [
    "columns_of_interest = [\"name_y\", \"drugs\", \"evidence_level\", \"clinical_significance\", \"disease\"]\n",
    "df_variant_evidence_filtered = df_variant_evidence.loc[:, columns_of_interest]\n",
    "df_variant_evidence_filtered.head()"
   ],
   "metadata": {
    "collapsed": false,
    "pycharm": {
     "name": "#%%\n"
    }
   }
  },
  {
   "cell_type": "code",
   "execution_count": 12,
   "outputs": [],
   "source": [
    "for i in range(df_variant_evidence_filtered.shape[0]):\n",
    "    drug_list = [drug[\"name\"] for drug in df_variant_evidence_filtered.loc[i, \"drugs\"]]\n",
    "    therapy_regimen = \"+\".join(drug_list)\n",
    "    df_variant_evidence_filtered.loc[i, \"therapy_regimen\"] = therapy_regimen\n",
    "    df_variant_evidence_filtered.loc[i, \"disease\"] = df_variant_evidence_filtered.loc[i, \"disease\"][\"name\"]"
   ],
   "metadata": {
    "collapsed": false,
    "pycharm": {
     "name": "#%%\n"
    }
   }
  },
  {
   "cell_type": "code",
   "execution_count": 13,
   "outputs": [
    {
     "data": {
      "text/plain": "    variant                                              drugs EvidenceLevel  \\\n0     P124S  [{'id': 63, 'name': 'Selumetinib', 'ncit_id': ...             D   \n1      Q56P  [{'id': 63, 'name': 'Selumetinib', 'ncit_id': ...             D   \n2       Q61  [{'id': 4, 'name': 'Vemurafenib', 'ncit_id': '...             B   \n3     D842V  [{'id': 5, 'name': 'Imatinib', 'ncit_id': 'C62...             B   \n4     D842V  [{'id': 5, 'name': 'Imatinib', 'ncit_id': 'C62...             B   \n5     S214C  [{'id': 6, 'name': 'Sorafenib', 'ncit_id': 'C6...             C   \n6      R882  [{'id': 7, 'name': 'Idarubicin', 'ncit_id': 'C...             B   \n7     V617F                                                 []             B   \n8     V617F  [{'id': 9, 'name': 'Fedratinib', 'ncit_id': 'C...             D   \n9      G13D  [{'id': 10, 'name': 'Tanespimycin', 'ncit_id':...             C   \n10     Q61L  [{'id': 11, 'name': 'Temozolomide', 'ncit_id':...             C   \n11     Q61R  [{'id': 11, 'name': 'Temozolomide', 'ncit_id':...             C   \n12   F1174L  [{'id': 12, 'name': 'Crizotinib', 'ncit_id': '...             D   \n13   F1174L  [{'id': 12, 'name': 'Crizotinib', 'ncit_id': '...             D   \n14    L576P  [{'id': 13, 'name': 'Nilotinib', 'ncit_id': 'C...             D   \n15  G12/G13  [{'id': 14, 'name': 'Gefitinib', 'ncit_id': 'C...             B   \n16      Q61  [{'id': 16, 'name': 'Cetuximab', 'ncit_id': 'C...             B   \n17   F1174L  [{'id': 17, 'name': 'Alectinib', 'ncit_id': 'C...             D   \n18   F1174L  [{'id': 12, 'name': 'Crizotinib', 'ncit_id': '...             D   \n19   R1275Q  [{'id': 18, 'name': 'TAE684', 'ncit_id': None,...             D   \n\n    ClinicalSignificance                             Disease  \\\n0             Resistance                            Melanoma   \n1             Resistance                            Melanoma   \n2             Resistance                            Melanoma   \n3             Resistance      Gastrointestinal Stromal Tumor   \n4             Resistance      Gastrointestinal Stromal Tumor   \n5   Sensitivity/Response       Lung Non-small Cell Carcinoma   \n6   Sensitivity/Response              Acute Myeloid Leukemia   \n7   Sensitivity/Response                   Polycythemia Vera   \n8   Sensitivity/Response                   Polycythemia Vera   \n9   Sensitivity/Response                            Melanoma   \n10  Sensitivity/Response                            Melanoma   \n11  Sensitivity/Response                            Melanoma   \n12            Resistance  Inflammatory Myofibroblastic Tumor   \n13            Resistance       Lung Non-small Cell Carcinoma   \n14            Resistance                            Melanoma   \n15            Resistance       Lung Non-small Cell Carcinoma   \n16            Resistance                   Colorectal Cancer   \n17  Sensitivity/Response                       Neuroblastoma   \n18  Sensitivity/Response                       Neuroblastoma   \n19  Sensitivity/Response                       Neuroblastoma   \n\n                  TherapyRegimen  \n0                    Selumetinib  \n1                    Selumetinib  \n2                    Vemurafenib  \n3                       Imatinib  \n4                       Imatinib  \n5                      Sorafenib  \n6                     Idarubicin  \n7                                 \n8                     Fedratinib  \n9                   Tanespimycin  \n10                  Temozolomide  \n11                  Temozolomide  \n12                    Crizotinib  \n13                    Crizotinib  \n14  Nilotinib+Imatinib+Sorafenib  \n15           Gefitinib+Erlotinib  \n16        Cetuximab+Chemotherapy  \n17                     Alectinib  \n18                    Crizotinib  \n19                        TAE684  ",
      "text/html": "<div>\n<style scoped>\n    .dataframe tbody tr th:only-of-type {\n        vertical-align: middle;\n    }\n\n    .dataframe tbody tr th {\n        vertical-align: top;\n    }\n\n    .dataframe thead th {\n        text-align: right;\n    }\n</style>\n<table border=\"1\" class=\"dataframe\">\n  <thead>\n    <tr style=\"text-align: right;\">\n      <th></th>\n      <th>variant</th>\n      <th>drugs</th>\n      <th>EvidenceLevel</th>\n      <th>ClinicalSignificance</th>\n      <th>Disease</th>\n      <th>TherapyRegimen</th>\n    </tr>\n  </thead>\n  <tbody>\n    <tr>\n      <th>0</th>\n      <td>P124S</td>\n      <td>[{'id': 63, 'name': 'Selumetinib', 'ncit_id': ...</td>\n      <td>D</td>\n      <td>Resistance</td>\n      <td>Melanoma</td>\n      <td>Selumetinib</td>\n    </tr>\n    <tr>\n      <th>1</th>\n      <td>Q56P</td>\n      <td>[{'id': 63, 'name': 'Selumetinib', 'ncit_id': ...</td>\n      <td>D</td>\n      <td>Resistance</td>\n      <td>Melanoma</td>\n      <td>Selumetinib</td>\n    </tr>\n    <tr>\n      <th>2</th>\n      <td>Q61</td>\n      <td>[{'id': 4, 'name': 'Vemurafenib', 'ncit_id': '...</td>\n      <td>B</td>\n      <td>Resistance</td>\n      <td>Melanoma</td>\n      <td>Vemurafenib</td>\n    </tr>\n    <tr>\n      <th>3</th>\n      <td>D842V</td>\n      <td>[{'id': 5, 'name': 'Imatinib', 'ncit_id': 'C62...</td>\n      <td>B</td>\n      <td>Resistance</td>\n      <td>Gastrointestinal Stromal Tumor</td>\n      <td>Imatinib</td>\n    </tr>\n    <tr>\n      <th>4</th>\n      <td>D842V</td>\n      <td>[{'id': 5, 'name': 'Imatinib', 'ncit_id': 'C62...</td>\n      <td>B</td>\n      <td>Resistance</td>\n      <td>Gastrointestinal Stromal Tumor</td>\n      <td>Imatinib</td>\n    </tr>\n    <tr>\n      <th>5</th>\n      <td>S214C</td>\n      <td>[{'id': 6, 'name': 'Sorafenib', 'ncit_id': 'C6...</td>\n      <td>C</td>\n      <td>Sensitivity/Response</td>\n      <td>Lung Non-small Cell Carcinoma</td>\n      <td>Sorafenib</td>\n    </tr>\n    <tr>\n      <th>6</th>\n      <td>R882</td>\n      <td>[{'id': 7, 'name': 'Idarubicin', 'ncit_id': 'C...</td>\n      <td>B</td>\n      <td>Sensitivity/Response</td>\n      <td>Acute Myeloid Leukemia</td>\n      <td>Idarubicin</td>\n    </tr>\n    <tr>\n      <th>7</th>\n      <td>V617F</td>\n      <td>[]</td>\n      <td>B</td>\n      <td>Sensitivity/Response</td>\n      <td>Polycythemia Vera</td>\n      <td></td>\n    </tr>\n    <tr>\n      <th>8</th>\n      <td>V617F</td>\n      <td>[{'id': 9, 'name': 'Fedratinib', 'ncit_id': 'C...</td>\n      <td>D</td>\n      <td>Sensitivity/Response</td>\n      <td>Polycythemia Vera</td>\n      <td>Fedratinib</td>\n    </tr>\n    <tr>\n      <th>9</th>\n      <td>G13D</td>\n      <td>[{'id': 10, 'name': 'Tanespimycin', 'ncit_id':...</td>\n      <td>C</td>\n      <td>Sensitivity/Response</td>\n      <td>Melanoma</td>\n      <td>Tanespimycin</td>\n    </tr>\n    <tr>\n      <th>10</th>\n      <td>Q61L</td>\n      <td>[{'id': 11, 'name': 'Temozolomide', 'ncit_id':...</td>\n      <td>C</td>\n      <td>Sensitivity/Response</td>\n      <td>Melanoma</td>\n      <td>Temozolomide</td>\n    </tr>\n    <tr>\n      <th>11</th>\n      <td>Q61R</td>\n      <td>[{'id': 11, 'name': 'Temozolomide', 'ncit_id':...</td>\n      <td>C</td>\n      <td>Sensitivity/Response</td>\n      <td>Melanoma</td>\n      <td>Temozolomide</td>\n    </tr>\n    <tr>\n      <th>12</th>\n      <td>F1174L</td>\n      <td>[{'id': 12, 'name': 'Crizotinib', 'ncit_id': '...</td>\n      <td>D</td>\n      <td>Resistance</td>\n      <td>Inflammatory Myofibroblastic Tumor</td>\n      <td>Crizotinib</td>\n    </tr>\n    <tr>\n      <th>13</th>\n      <td>F1174L</td>\n      <td>[{'id': 12, 'name': 'Crizotinib', 'ncit_id': '...</td>\n      <td>D</td>\n      <td>Resistance</td>\n      <td>Lung Non-small Cell Carcinoma</td>\n      <td>Crizotinib</td>\n    </tr>\n    <tr>\n      <th>14</th>\n      <td>L576P</td>\n      <td>[{'id': 13, 'name': 'Nilotinib', 'ncit_id': 'C...</td>\n      <td>D</td>\n      <td>Resistance</td>\n      <td>Melanoma</td>\n      <td>Nilotinib+Imatinib+Sorafenib</td>\n    </tr>\n    <tr>\n      <th>15</th>\n      <td>G12/G13</td>\n      <td>[{'id': 14, 'name': 'Gefitinib', 'ncit_id': 'C...</td>\n      <td>B</td>\n      <td>Resistance</td>\n      <td>Lung Non-small Cell Carcinoma</td>\n      <td>Gefitinib+Erlotinib</td>\n    </tr>\n    <tr>\n      <th>16</th>\n      <td>Q61</td>\n      <td>[{'id': 16, 'name': 'Cetuximab', 'ncit_id': 'C...</td>\n      <td>B</td>\n      <td>Resistance</td>\n      <td>Colorectal Cancer</td>\n      <td>Cetuximab+Chemotherapy</td>\n    </tr>\n    <tr>\n      <th>17</th>\n      <td>F1174L</td>\n      <td>[{'id': 17, 'name': 'Alectinib', 'ncit_id': 'C...</td>\n      <td>D</td>\n      <td>Sensitivity/Response</td>\n      <td>Neuroblastoma</td>\n      <td>Alectinib</td>\n    </tr>\n    <tr>\n      <th>18</th>\n      <td>F1174L</td>\n      <td>[{'id': 12, 'name': 'Crizotinib', 'ncit_id': '...</td>\n      <td>D</td>\n      <td>Sensitivity/Response</td>\n      <td>Neuroblastoma</td>\n      <td>Crizotinib</td>\n    </tr>\n    <tr>\n      <th>19</th>\n      <td>R1275Q</td>\n      <td>[{'id': 18, 'name': 'TAE684', 'ncit_id': None,...</td>\n      <td>D</td>\n      <td>Sensitivity/Response</td>\n      <td>Neuroblastoma</td>\n      <td>TAE684</td>\n    </tr>\n  </tbody>\n</table>\n</div>"
     },
     "execution_count": 13,
     "metadata": {},
     "output_type": "execute_result"
    }
   ],
   "source": [
    "column_mappings = {\n",
    "    \"name_y\": \"variant\",\n",
    "    \"therapy_regimen\": \"TherapyRegimen\",\n",
    "    \"evidence_level\": \"EvidenceLevel\",\n",
    "    \"clinical_significance\": \"ClinicalSignificance\",\n",
    "    \"disease\": \"Disease\"\n",
    "}\n",
    "df_variant_evidence_filtered.rename(columns=column_mappings, inplace=True)\n",
    "df_variant_evidence_filtered.head(20)"
   ],
   "metadata": {
    "collapsed": false,
    "pycharm": {
     "name": "#%%\n"
    }
   }
  },
  {
   "cell_type": "markdown",
   "source": [
    "##### Safe Table to CSV"
   ],
   "metadata": {
    "collapsed": false,
    "pycharm": {
     "name": "#%% md\n"
    }
   }
  },
  {
   "cell_type": "code",
   "execution_count": 14,
   "outputs": [],
   "source": [
    "df_variant_evidence_filtered.to_csv(\"CIViC_variance_evidence.csv\")"
   ],
   "metadata": {
    "collapsed": false,
    "pycharm": {
     "name": "#%%\n"
    }
   }
  },
  {
   "cell_type": "code",
   "execution_count": null,
   "outputs": [],
   "source": [],
   "metadata": {
    "collapsed": false,
    "pycharm": {
     "name": "#%%\n"
    }
   }
  }
 ],
 "metadata": {
  "kernelspec": {
   "display_name": "Python 3",
   "language": "python",
   "name": "python3"
  },
  "language_info": {
   "codemirror_mode": {
    "name": "ipython",
    "version": 3
   },
   "file_extension": ".py",
   "mimetype": "text/x-python",
   "name": "python",
   "nbconvert_exporter": "python",
   "pygments_lexer": "ipython3",
   "version": "3.7.3"
  }
 },
 "nbformat": 4,
 "nbformat_minor": 2
}