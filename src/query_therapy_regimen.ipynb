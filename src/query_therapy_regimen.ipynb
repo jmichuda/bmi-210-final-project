{
 "cells": [
  {
   "cell_type": "markdown",
   "metadata": {},
   "source": [
    "# Tutorial: Querying an OWL ontology using SPARQL commands"
   ]
  },
  {
   "cell_type": "markdown",
   "metadata": {},
   "source": [
    "We will use owlready2 to access and query our ontology. Specifically, we will query for treatments matching variants in cBioPortal.\n",
    "\n",
    "<font color=\"red\">\n",
    "\n",
    "We implement similar functionality into functions in `query_therapy_regimen.py` for modularity and task decomposition.\n",
    "\n",
    "</font>"
   ]
  },
  {
   "cell_type": "markdown",
   "metadata": {},
   "source": [
    "### Import Modules"
   ]
  },
  {
   "cell_type": "code",
   "execution_count": 1,
   "metadata": {},
   "outputs": [],
   "source": [
    "import os\n",
    "import re\n",
    "import csv\n",
    "\n",
    "import numpy as np\n",
    "import pandas as pd\n",
    "import owlready2 as or2\n",
    "\n",
    "from sample_patients import sample_patient_records\n",
    "from query_therapy_regimen import get_therapy_given_gene_variant_disease, load_ongology"
   ]
  },
  {
   "cell_type": "markdown",
   "metadata": {},
   "source": [
    "### Load Ontology\n",
    "\n",
    "**Note:** Update path to local ontology matching your local file structure."
   ]
  },
  {
   "cell_type": "code",
   "execution_count": 2,
   "metadata": {},
   "outputs": [],
   "source": [
    "local_ontology = \"../ontology/oncokb.owl\"\n",
    "onto = or2.get_ontology(local_ontology).load()"
   ]
  },
  {
   "cell_type": "markdown",
   "metadata": {},
   "source": [
    "### Load cBioPortal Mutation Data\n",
    "\n",
    "**Note:** Update path to cBioPortal mutation data to match your local file structure."
   ]
  },
  {
   "cell_type": "code",
   "execution_count": 3,
   "metadata": {},
   "outputs": [
    {
     "name": "stdout",
     "output_type": "stream",
     "text": [
      "Done\n"
     ]
    }
   ],
   "source": [
    "# Sample mutation data for a subset of patients.\n",
    "csv_path = \"mutations.csv\"\n",
    "n_patients = int(14)\n",
    "out_path = f\"mutations_{n_patients}.csv\"\n",
    "\n",
    "sample_patient_records(csv_path, out_path, n_patients=n_patients)"
   ]
  },
  {
   "cell_type": "code",
   "execution_count": 4,
   "metadata": {},
   "outputs": [
    {
     "data": {
      "text/plain": "     patientId proteinChange  entrezGeneId\n0  Patient0001          G12C          3845\n1  Patient0001         R216*           324\n2  Patient0001         R505C         55294\n3  Patient0001        E1286*           324\n4  Patient0001        R4822H         58508",
      "text/html": "<div>\n<style scoped>\n    .dataframe tbody tr th:only-of-type {\n        vertical-align: middle;\n    }\n\n    .dataframe tbody tr th {\n        vertical-align: top;\n    }\n\n    .dataframe thead th {\n        text-align: right;\n    }\n</style>\n<table border=\"1\" class=\"dataframe\">\n  <thead>\n    <tr style=\"text-align: right;\">\n      <th></th>\n      <th>patientId</th>\n      <th>proteinChange</th>\n      <th>entrezGeneId</th>\n    </tr>\n  </thead>\n  <tbody>\n    <tr>\n      <th>0</th>\n      <td>Patient0001</td>\n      <td>G12C</td>\n      <td>3845</td>\n    </tr>\n    <tr>\n      <th>1</th>\n      <td>Patient0001</td>\n      <td>R216*</td>\n      <td>324</td>\n    </tr>\n    <tr>\n      <th>2</th>\n      <td>Patient0001</td>\n      <td>R505C</td>\n      <td>55294</td>\n    </tr>\n    <tr>\n      <th>3</th>\n      <td>Patient0001</td>\n      <td>E1286*</td>\n      <td>324</td>\n    </tr>\n    <tr>\n      <th>4</th>\n      <td>Patient0001</td>\n      <td>R4822H</td>\n      <td>58508</td>\n    </tr>\n  </tbody>\n</table>\n</div>"
     },
     "execution_count": 4,
     "metadata": {},
     "output_type": "execute_result"
    }
   ],
   "source": [
    "# Load subset of patient data\n",
    "cBioPortal_mutations = pd.read_csv(out_path)\n",
    "cBioPortal_mutations = cBioPortal_mutations.loc[:, [\"patientId\", \"proteinChange\", \"entrezGeneId\"]]\n",
    "cBioPortal_mutations.head()"
   ]
  },
  {
   "cell_type": "markdown",
   "metadata": {},
   "source": [
    "### Load Gene List"
   ]
  },
  {
   "cell_type": "code",
   "execution_count": 5,
   "metadata": {},
   "outputs": [
    {
     "data": {
      "text/plain": "     patientId proteinChange  entrezGeneId Gene_Symbol\n0  Patient0001          G12C          3845        KRAS\n1  Patient0001         R216*           324         APC\n2  Patient0001         R505C         55294       FBXW7\n3  Patient0001        E1286*           324         APC\n4  Patient0001        R4822H         58508       KMT2C",
      "text/html": "<div>\n<style scoped>\n    .dataframe tbody tr th:only-of-type {\n        vertical-align: middle;\n    }\n\n    .dataframe tbody tr th {\n        vertical-align: top;\n    }\n\n    .dataframe thead th {\n        text-align: right;\n    }\n</style>\n<table border=\"1\" class=\"dataframe\">\n  <thead>\n    <tr style=\"text-align: right;\">\n      <th></th>\n      <th>patientId</th>\n      <th>proteinChange</th>\n      <th>entrezGeneId</th>\n      <th>Gene_Symbol</th>\n    </tr>\n  </thead>\n  <tbody>\n    <tr>\n      <th>0</th>\n      <td>Patient0001</td>\n      <td>G12C</td>\n      <td>3845</td>\n      <td>KRAS</td>\n    </tr>\n    <tr>\n      <th>1</th>\n      <td>Patient0001</td>\n      <td>R216*</td>\n      <td>324</td>\n      <td>APC</td>\n    </tr>\n    <tr>\n      <th>2</th>\n      <td>Patient0001</td>\n      <td>R505C</td>\n      <td>55294</td>\n      <td>FBXW7</td>\n    </tr>\n    <tr>\n      <th>3</th>\n      <td>Patient0001</td>\n      <td>E1286*</td>\n      <td>324</td>\n      <td>APC</td>\n    </tr>\n    <tr>\n      <th>4</th>\n      <td>Patient0001</td>\n      <td>R4822H</td>\n      <td>58508</td>\n      <td>KMT2C</td>\n    </tr>\n  </tbody>\n</table>\n</div>"
     },
     "execution_count": 5,
     "metadata": {},
     "output_type": "execute_result"
    }
   ],
   "source": [
    "# Load genes matching Entrez Gene ID\n",
    "gene_list = pd.read_csv(\"CancerGeneList.tsv\", sep=\"\\t\", usecols=[0, 1])\n",
    "cBioPortal_mutations = cBioPortal_mutations.merge(gene_list, left_on=\"entrezGeneId\", right_on=\"Entrez_Id\", how=\"left\").drop(\"Entrez_Id\", axis=1)\n",
    "cBioPortal_mutations.head()"
   ]
  },
  {
   "cell_type": "markdown",
   "source": [
    "### Load Disease Data"
   ],
   "metadata": {
    "collapsed": false,
    "pycharm": {
     "name": "#%% md\n"
    }
   }
  },
  {
   "cell_type": "code",
   "execution_count": 6,
   "outputs": [
    {
     "data": {
      "text/plain": "       patientId proteinChange Gene_Symbol  entrezGeneId shortName\n397  Patient0011         K642E         KIT          3815       MEL\n398  Patient0011        E2653K        FAT4         79633       MEL",
      "text/html": "<div>\n<style scoped>\n    .dataframe tbody tr th:only-of-type {\n        vertical-align: middle;\n    }\n\n    .dataframe tbody tr th {\n        vertical-align: top;\n    }\n\n    .dataframe thead th {\n        text-align: right;\n    }\n</style>\n<table border=\"1\" class=\"dataframe\">\n  <thead>\n    <tr style=\"text-align: right;\">\n      <th></th>\n      <th>patientId</th>\n      <th>proteinChange</th>\n      <th>Gene_Symbol</th>\n      <th>entrezGeneId</th>\n      <th>shortName</th>\n    </tr>\n  </thead>\n  <tbody>\n    <tr>\n      <th>397</th>\n      <td>Patient0011</td>\n      <td>K642E</td>\n      <td>KIT</td>\n      <td>3815</td>\n      <td>MEL</td>\n    </tr>\n    <tr>\n      <th>398</th>\n      <td>Patient0011</td>\n      <td>E2653K</td>\n      <td>FAT4</td>\n      <td>79633</td>\n      <td>MEL</td>\n    </tr>\n  </tbody>\n</table>\n</div>"
     },
     "execution_count": 6,
     "metadata": {},
     "output_type": "execute_result"
    }
   ],
   "source": [
    "clinical_data = pd.read_csv(\"clinical_data.csv\", index_col=0).drop_duplicates()\n",
    "cBioPortal_mutations = cBioPortal_mutations.merge(clinical_data, on=\"patientId\", how=\"left\")\n",
    "cBioPortal_mutations = cBioPortal_mutations.loc[:, [\"patientId\", \"proteinChange\", \"Gene_Symbol\", \"entrezGeneId\", \"name\"]]\n",
    "\n",
    "cancer_types = pd.read_csv(\"cancer_types.csv\", index_col=0)\n",
    "cBioPortal_mutations = cBioPortal_mutations.merge(cancer_types, on=\"name\", how=\"left\")\n",
    "cBioPortal_mutations = cBioPortal_mutations.loc[:, ['patientId', 'proteinChange', 'Gene_Symbol', 'entrezGeneId', 'shortName']].dropna()\n",
    "cBioPortal_mutations.head()"
   ],
   "metadata": {
    "collapsed": false,
    "pycharm": {
     "name": "#%%\n"
    }
   }
  },
  {
   "cell_type": "markdown",
   "metadata": {},
   "source": [
    "### Query for Patient Gene/Variant/Disease Combinations in OncoKB and OncoKB+CIViC\n",
    "\n",
    "Query for therapy regimen associated with each gene/variant/disease combination for each patient sampled from cBioPortal."
   ]
  },
  {
   "cell_type": "code",
   "execution_count": 7,
   "metadata": {
    "pycharm": {
     "name": "#%%\n"
    }
   },
   "outputs": [
    {
     "name": "stdout",
     "output_type": "stream",
     "text": [
      "Number of unique patients in evaluation: 1\n"
     ]
    }
   ],
   "source": [
    "unique_patients = np.unique(cBioPortal_mutations[\"patientId\"].to_numpy())\n",
    "print(f\"Number of unique patients in evaluation: {len(unique_patients)}\")"
   ]
  },
  {
   "cell_type": "code",
   "execution_count": null,
   "outputs": [],
   "source": [
    "ontologies = [load_ongology(\"../ontology/oncokb.owl\"), load_ongology(\"../ontology/oncokb_civic.owl\")]\n",
    "ontology_names = [\"oncokb\", \"oncokb_civic\"]\n",
    "evidence_levels = [\"1\", \"2\", \"3\", \"4\", \"R1\", \"R2\"]\n",
    "\n",
    "for h, ontology in enumerate(ontologies):\n",
    "    n_therapies = []\n",
    "    for i, patient in enumerate(unique_patients):\n",
    "        if (i+1) % 1000 == 0:\n",
    "            print(f\"patient {(i+1)} of {len(unique_patients)}\")\n",
    "\n",
    "        patient_records = cBioPortal_mutations[cBioPortal_mutations[\"patientId\"] == patient]\n",
    "        n_mutations = patient_records.shape[0]\n",
    "        n_hits = 0\n",
    "\n",
    "        for j in range(n_mutations):\n",
    "            for k in evidence_levels:\n",
    "                therapies = get_therapy_given_gene_variant_disease(\n",
    "                    ontology, patient_records.iloc[j, 2], patient_records.iloc[j, 1],\n",
    "                    patient_records.iloc[j, 4], k\n",
    "                )\n",
    "                n_hits += len(therapies)\n",
    "\n",
    "        n_therapies.append({\"patient\": patient, \"n_therapies\": n_hits})\n",
    "\n",
    "    keys = n_therapies[0].keys()\n",
    "    a_file = open(f\"../output/{ontology_names[h]}.csv\", \"w\")\n",
    "    dict_writer = csv.DictWriter(a_file, keys)\n",
    "    dict_writer.writeheader()\n",
    "    dict_writer.writerows(n_therapies)\n",
    "    a_file.close()\n"
   ],
   "metadata": {
    "collapsed": false,
    "pycharm": {
     "name": "#%%\n",
     "is_executing": true
    }
   }
  }
 ],
 "metadata": {
  "kernelspec": {
   "display_name": "Python 3",
   "language": "python",
   "name": "python3"
  },
  "language_info": {
   "codemirror_mode": {
    "name": "ipython",
    "version": 3
   },
   "file_extension": ".py",
   "mimetype": "text/x-python",
   "name": "python",
   "nbconvert_exporter": "python",
   "pygments_lexer": "ipython3",
   "version": "3.7.3"
  }
 },
 "nbformat": 4,
 "nbformat_minor": 1
}