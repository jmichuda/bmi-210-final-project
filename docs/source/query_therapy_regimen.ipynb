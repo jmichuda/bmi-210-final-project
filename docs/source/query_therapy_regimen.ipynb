{
 "cells": [
  {
   "cell_type": "markdown",
   "metadata": {},
   "source": [
    "# Querying an OWL ontology using SPARQL commands"
   ]
  },
  {
   "cell_type": "markdown",
   "metadata": {},
   "source": [
    "We will use owlready2 to access and query our ontology. Specifically, we will query for treatments matching variants in cBioPortal.\n",
    "\n",
    "<font color=\"red\">\n",
    "\n",
    "We implement this functionality into functions in `query_ontology.py`, taking into account modularity and task decomposition. This notebook format is included just for demonstration purposes.\n",
    "\n",
    "</font>"
   ]
  },
  {
   "cell_type": "markdown",
   "metadata": {},
   "source": [
    "### Import Modules"
   ]
  },
  {
   "cell_type": "code",
   "execution_count": 1,
   "metadata": {},
   "outputs": [],
   "source": [
    "import os\n",
    "import re\n",
    "\n",
    "import numpy as np\n",
    "import pandas as pd\n",
    "from owlready2 import *\n",
    "\n",
    "from sample_patients import sample_patient_records"
   ]
  },
  {
   "cell_type": "markdown",
   "metadata": {},
   "source": [
    "### Load Ontology\n",
    "\n",
    "**Note:** Update path to local ontology matching your local file structure."
   ]
  },
  {
   "cell_type": "code",
   "execution_count": 2,
   "metadata": {},
   "outputs": [],
   "source": [
    "local_ontology = \"github/bmi-210-final-project/ontology/oncokb.owl\"\n",
    "onto = get_ontology(local_ontology).load()"
   ]
  },
  {
   "cell_type": "markdown",
   "metadata": {},
   "source": [
    "### Load cBioPortal Mutation Data\n",
    "\n",
    "**Note:** Update path to cBioPortal mutation data to match your local file structure."
   ]
  },
  {
   "cell_type": "code",
   "execution_count": 3,
   "metadata": {},
   "outputs": [
    {
     "name": "stdout",
     "output_type": "stream",
     "text": [
      "Done\n"
     ]
    }
   ],
   "source": [
    "# Sample mutation data for a subset of patients.\n",
    "csv_path = \"mutations.csv\"\n",
    "out_path = \"mutations_1000.csv\"\n",
    "n_patients = 1000\n",
    "sample_patient_records(csv_path, out_path)"
   ]
  },
  {
   "cell_type": "code",
   "execution_count": 4,
   "metadata": {},
   "outputs": [
    {
     "data": {
      "text/plain": "     patientId proteinChange  entrezGeneId\n0  Patient0001          G12C          3845\n1  Patient0001         R216*           324\n2  Patient0001         R505C         55294\n3  Patient0001        E1286*           324\n4  Patient0001        R4822H         58508",
      "text/html": "<div>\n<style scoped>\n    .dataframe tbody tr th:only-of-type {\n        vertical-align: middle;\n    }\n\n    .dataframe tbody tr th {\n        vertical-align: top;\n    }\n\n    .dataframe thead th {\n        text-align: right;\n    }\n</style>\n<table border=\"1\" class=\"dataframe\">\n  <thead>\n    <tr style=\"text-align: right;\">\n      <th></th>\n      <th>patientId</th>\n      <th>proteinChange</th>\n      <th>entrezGeneId</th>\n    </tr>\n  </thead>\n  <tbody>\n    <tr>\n      <th>0</th>\n      <td>Patient0001</td>\n      <td>G12C</td>\n      <td>3845</td>\n    </tr>\n    <tr>\n      <th>1</th>\n      <td>Patient0001</td>\n      <td>R216*</td>\n      <td>324</td>\n    </tr>\n    <tr>\n      <th>2</th>\n      <td>Patient0001</td>\n      <td>R505C</td>\n      <td>55294</td>\n    </tr>\n    <tr>\n      <th>3</th>\n      <td>Patient0001</td>\n      <td>E1286*</td>\n      <td>324</td>\n    </tr>\n    <tr>\n      <th>4</th>\n      <td>Patient0001</td>\n      <td>R4822H</td>\n      <td>58508</td>\n    </tr>\n  </tbody>\n</table>\n</div>"
     },
     "execution_count": 4,
     "metadata": {},
     "output_type": "execute_result"
    }
   ],
   "source": [
    "# Load subset of patient data\n",
    "cBioPortal_mutations = pd.read_csv(out_path)\n",
    "cBioPortal_mutations = cBioPortal_mutations.loc[:, [\"patientId\", \"proteinChange\", \"entrezGeneId\"]]\n",
    "cBioPortal_mutations.head()"
   ]
  },
  {
   "cell_type": "markdown",
   "metadata": {},
   "source": [
    "### Load Gene List"
   ]
  },
  {
   "cell_type": "code",
   "execution_count": 5,
   "metadata": {},
   "outputs": [
    {
     "data": {
      "text/plain": "     patientId proteinChange  entrezGeneId Gene_Symbol\n0  Patient0001          G12C          3845        KRAS\n1  Patient0001         R216*           324         APC\n2  Patient0001         R505C         55294       FBXW7\n3  Patient0001        E1286*           324         APC\n4  Patient0001        R4822H         58508       KMT2C",
      "text/html": "<div>\n<style scoped>\n    .dataframe tbody tr th:only-of-type {\n        vertical-align: middle;\n    }\n\n    .dataframe tbody tr th {\n        vertical-align: top;\n    }\n\n    .dataframe thead th {\n        text-align: right;\n    }\n</style>\n<table border=\"1\" class=\"dataframe\">\n  <thead>\n    <tr style=\"text-align: right;\">\n      <th></th>\n      <th>patientId</th>\n      <th>proteinChange</th>\n      <th>entrezGeneId</th>\n      <th>Gene_Symbol</th>\n    </tr>\n  </thead>\n  <tbody>\n    <tr>\n      <th>0</th>\n      <td>Patient0001</td>\n      <td>G12C</td>\n      <td>3845</td>\n      <td>KRAS</td>\n    </tr>\n    <tr>\n      <th>1</th>\n      <td>Patient0001</td>\n      <td>R216*</td>\n      <td>324</td>\n      <td>APC</td>\n    </tr>\n    <tr>\n      <th>2</th>\n      <td>Patient0001</td>\n      <td>R505C</td>\n      <td>55294</td>\n      <td>FBXW7</td>\n    </tr>\n    <tr>\n      <th>3</th>\n      <td>Patient0001</td>\n      <td>E1286*</td>\n      <td>324</td>\n      <td>APC</td>\n    </tr>\n    <tr>\n      <th>4</th>\n      <td>Patient0001</td>\n      <td>R4822H</td>\n      <td>58508</td>\n      <td>KMT2C</td>\n    </tr>\n  </tbody>\n</table>\n</div>"
     },
     "execution_count": 5,
     "metadata": {},
     "output_type": "execute_result"
    }
   ],
   "source": [
    "# Load genes matching Entrez Gene ID\n",
    "gene_list = pd.read_csv(\"CancerGeneList.tsv\", sep=\"\\t\", usecols=[0, 1])\n",
    "cBioPortal_mutations = cBioPortal_mutations.merge(gene_list, left_on=\"entrezGeneId\", right_on=\"Entrez_Id\", how=\"left\").drop(\"Entrez_Id\", axis=1)\n",
    "cBioPortal_mutations.head()"
   ]
  },
  {
   "cell_type": "markdown",
   "metadata": {},
   "source": [
    "### Generate SPARQL Query"
   ]
  },
  {
   "cell_type": "code",
   "execution_count": 6,
   "metadata": {},
   "outputs": [
    {
     "name": "stdout",
     "output_type": "stream",
     "text": [
      "[oncokb.Trametinib, oncokb.Binimetinib, oncokb.Cobimetinib]\n"
     ]
    }
   ],
   "source": [
    "example_gene = \"KRAS\"\n",
    "example_variant = \"G12C\"\n",
    "evidence_level = 4\n",
    "\n",
    "example_regimen = list(\n",
    "    default_world.sparql(\n",
    "        f\"\"\"\n",
    "        SELECT distinct ?regimen\n",
    "        {{\n",
    "            ?biomarker rdfs:subClassOf oncokb:Biomarker.\n",
    "            ?biomarker rdfs:subClassOf ?r1.\n",
    "            ?r1 owl:onProperty oncokb:hasGene.\n",
    "            ?r1 owl:someValuesFrom oncokb:{re.escape(example_gene)}.\n",
    "\n",
    "            ?biomarker rdfs:subClassOf ?R2.\n",
    "            ?R2 owl:onProperty oncokb:hasVariant.\n",
    "            ?R2 owl:someValuesFrom oncokb:{re.escape(example_variant)}.\n",
    "            \n",
    "            ?regimen rdfs:subClassOf oncokb:TherapyRegimen.\n",
    "            ?regimen rdfs:subClassOf ?restriction2.\n",
    "            ?restriction2 owl:onProperty oncokb:hasEvidenceLevel{evidence_level}.\n",
    "            ?restriction2 owl:someValuesFrom ?biomarker.\n",
    "        }}\n",
    "        \"\"\"\n",
    "    )\n",
    ")\n",
    "\n",
    "example_regimen = [regimen[0] for regimen in example_regimen]\n",
    "print(example_regimen)"
   ]
  },
  {
   "cell_type": "markdown",
   "metadata": {},
   "source": [
    "### Custom Command Line Tool\n",
    "\n",
    "Query for and save the therapy regimen associated with each mutated gene in a specific patient. We will use \"Patient1035\" – the 1000th patient in our cBioPortal mutation output file – as an example.\n",
    "\n",
    "**Usage of command line tool:** `python query_therapy_regimen.py <ONTOLOGY_PATH> <MUTATION_TABLE_PATH> <GENE_LIST_PATH> <PATIENT_NAME> <REGIMEN_SAVE_PATH>`"
   ]
  },
  {
   "cell_type": "code",
   "execution_count": 7,
   "metadata": {
    "pycharm": {
     "name": "#%%\n"
    }
   },
   "outputs": [
    {
     "name": "stdout",
     "output_type": "stream",
     "text": [
      "Patient 'Patient1035' found!\r\n"
     ]
    }
   ],
   "source": [
    "!python query_therapy_regimen.py \"github/bmi-210-final-project/ontology/oncokb.owl\" \"mutations.csv\" \"CancerGeneList.tsv\" \"Patient1035\" \"example_regimen_list.csv\""
   ]
  }
 ],
 "metadata": {
  "kernelspec": {
   "display_name": "Python 3",
   "language": "python",
   "name": "python3"
  },
  "language_info": {
   "codemirror_mode": {
    "name": "ipython",
    "version": 3
   },
   "file_extension": ".py",
   "mimetype": "text/x-python",
   "name": "python",
   "nbconvert_exporter": "python",
   "pygments_lexer": "ipython3",
   "version": "3.7.3"
  }
 },
 "nbformat": 4,
 "nbformat_minor": 1
}